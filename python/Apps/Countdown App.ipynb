{
 "cells": [
  {
   "cell_type": "markdown",
   "metadata": {},
   "source": [
    "# Create a Countdown Timer with Python"
   ]
  },
  {
   "cell_type": "raw",
   "metadata": {},
   "source": [
    "Python has a module named time to handle time-related tasks. To use functions defined in the module, we need to import the module first. Here's how:"
   ]
  },
  {
   "cell_type": "code",
   "execution_count": null,
   "metadata": {},
   "outputs": [
    {
     "name": "stdout",
     "output_type": "stream",
     "text": [
      "**** Countdown App ****\n"
     ]
    }
   ],
   "source": [
    "print(\"**** Countdown App ****\")\n",
    "import time\n",
    "\n",
    "def countdown(time_sec):\n",
    "    while time_sec:\n",
    "        mins, secs = divmod(time_sec, 60)\n",
    "        timeformat = '{:02d}:{:02d}'.format(mins, secs)\n",
    "        print(timeformat, end='\\r')\n",
    "        time.sleep(1)\n",
    "        time_sec -= 1\n",
    "\n",
    "    print(\"stop \")\n",
    "\n",
    "val=int(input(\"Enter Desire Time in Second:\"))\n",
    "countdown(val)"
   ]
  },
  {
   "cell_type": "raw",
   "metadata": {},
   "source": [
    "divmod() Parameters\n",
    "\n",
    "divmod() takes two parameters:\n",
    "\n",
    "    x - a non-complex number (numerator)\n",
    "\n",
    "    y - a non-complex number (denominator)\n",
    "\n",
    "Return Value from divmod()\n",
    "\n",
    "divmod() returns\n",
    "\n",
    "    (q, r) - a pair of numbers (a tuple) consisting of quotient q and remainder r\n",
    "\n",
    "If x and y are integers, the return value from divmod() is same as (a // b, x % y).\n",
    "\n",
    "If either x or y is a float, the result is (q, x%y). Here, q is the whole part of the quotient."
   ]
  },
  {
   "cell_type": "raw",
   "metadata": {},
   "source": [
    "In the program, time.sleep() \n",
    "takes as arguments the number of seconds you want the program to halt or to be suspended before it moves forward to the next step."
   ]
  }
 ],
 "metadata": {
  "kernelspec": {
   "display_name": "Python 3",
   "language": "python",
   "name": "python3"
  },
  "language_info": {
   "codemirror_mode": {
    "name": "ipython",
    "version": 3
   },
   "file_extension": ".py",
   "mimetype": "text/x-python",
   "name": "python",
   "nbconvert_exporter": "python",
   "pygments_lexer": "ipython3",
   "version": "3.6.5"
  }
 },
 "nbformat": 4,
 "nbformat_minor": 2
}
