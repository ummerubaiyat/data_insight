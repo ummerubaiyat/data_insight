{
 "cells": [
  {
   "cell_type": "markdown",
   "metadata": {},
   "source": [
    "# Body Mass Index Calculator using Python"
   ]
  },
  {
   "cell_type": "raw",
   "metadata": {},
   "source": [
    "A person's BMI is a number derived from their weight and height. For most people, BMI is a reasonably trustworthy predictor of body fatness, and it's used to check for weight categories that could contribute to health issues.\n",
    "\n",
    "This blog post explains how to calculate BMI using a program (BMI). It determines whether or whether you are underweight, regular weight, overweight, or obese. Knowing your BMI is vital since it can suggest any potential health risks and, if necessary, prompt action."
   ]
  },
  {
   "cell_type": "code",
   "execution_count": 1,
   "metadata": {},
   "outputs": [
    {
     "name": "stdout",
     "output_type": "stream",
     "text": [
      "Body Mass Index Calculation App!\n"
     ]
    }
   ],
   "source": [
    "print('Body Mass Index Calculation App!')"
   ]
  },
  {
   "cell_type": "raw",
   "metadata": {},
   "source": [
    "Steps to be followed for the creation of BMI Calculator.\n",
    "\n",
    "1. The code that prompts users to enter their weight and height."
   ]
  },
  {
   "cell_type": "code",
   "execution_count": 2,
   "metadata": {},
   "outputs": [
    {
     "name": "stdout",
     "output_type": "stream",
     "text": [
      "\n",
      "Please Enter Your Height in centimetres (in cm): 173\n"
     ]
    }
   ],
   "source": [
    "#For height\n",
    "try:\n",
    "    height = float(input(\"\\nPlease Enter Your Height in centimetres (in cm): \"))    \n",
    "except ValueError:\n",
    "    print(\"\\nInvalid Input! Please input a valid number.\")\n",
    "    height = float(input(\"\\nPlease Enter Your Height in centimetres (in cm): \")) "
   ]
  },
  {
   "cell_type": "code",
   "execution_count": 3,
   "metadata": {},
   "outputs": [
    {
     "name": "stdout",
     "output_type": "stream",
     "text": [
      "\n",
      "Please Enter Your Weight in kilograms(in kg): 75\n"
     ]
    }
   ],
   "source": [
    "#For weight\n",
    "try:\n",
    "    weight = float(input(\"\\nPlease Enter Your Weight in kilograms(in kg): \"))\n",
    "except ValueError:\n",
    "    print(\"\\nInvalid Input! Please input a number.\")\n",
    "    weight = float(input(\"\\nPlease Enter Your Weight in kilograms(in kg): \")) \n"
   ]
  },
  {
   "cell_type": "raw",
   "metadata": {},
   "source": [
    "This code will take User Height & Weight. In the input it also validates the right input from user.\n",
    "\n",
    "2.  This code below is the implementation of The formula of BMI"
   ]
  },
  {
   "cell_type": "code",
   "execution_count": 4,
   "metadata": {},
   "outputs": [],
   "source": [
    "BMI = weight *10000/ (height**2)"
   ]
  },
  {
   "cell_type": "raw",
   "metadata": {},
   "source": [
    "3. The code below will print out the calculated result rounded to three decimal places."
   ]
  },
  {
   "cell_type": "code",
   "execution_count": 5,
   "metadata": {},
   "outputs": [
    {
     "name": "stdout",
     "output_type": "stream",
     "text": [
      "Your BMI is 25.059\n"
     ]
    }
   ],
   "source": [
    "print(\"Your BMI is \"+str(round(BMI,3)))"
   ]
  },
  {
   "cell_type": "raw",
   "metadata": {},
   "source": [
    "4.  The code below is the implementation of the conditions according the above result. And, depending on the conditions it will finally display the status of BMI."
   ]
  },
  {
   "cell_type": "code",
   "execution_count": 6,
   "metadata": {},
   "outputs": [
    {
     "name": "stdout",
     "output_type": "stream",
     "text": [
      "Status: Overweight\n"
     ]
    }
   ],
   "source": [
    "if BMI < 18.5:print(\"Status: Underweight\")\n",
    "elif BMI >= 18.5 and BMI < 25:print(\"Status: Normal weight\")\n",
    "elif BMI >= 25 and BMI < 30:print(\"Status: Overweight\")\n",
    "else:print(\"Status: Obese\")"
   ]
  }
 ],
 "metadata": {
  "kernelspec": {
   "display_name": "Python 3",
   "language": "python",
   "name": "python3"
  },
  "language_info": {
   "codemirror_mode": {
    "name": "ipython",
    "version": 3
   },
   "file_extension": ".py",
   "mimetype": "text/x-python",
   "name": "python",
   "nbconvert_exporter": "python",
   "pygments_lexer": "ipython3",
   "version": "3.6.5"
  }
 },
 "nbformat": 4,
 "nbformat_minor": 2
}
